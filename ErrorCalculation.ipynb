{
 "cells": [
  {
   "cell_type": "code",
   "execution_count": 1,
   "id": "a286cbe8",
   "metadata": {},
   "outputs": [],
   "source": [
    "from matplotlib import pyplot as plt\n",
    "from skimage import data\n",
    "from skimage.feature import blob_dog, blob_log, blob_doh\n",
    "from math import sqrt\n",
    "from skimage.color import rgb2gray\n",
    "import glob\n",
    "from skimage.io import imread\n",
    "import cv2\n",
    "import numpy as np\n",
    "import argparse\n",
    "import json\n",
    "import geopy.distance\n",
    "from tabulate import tabulate       "
   ]
  },
  {
   "cell_type": "code",
   "execution_count": 2,
   "id": "debd0015",
   "metadata": {},
   "outputs": [],
   "source": [
    "info = {'Image': ['0_000059.jpg', '0_000059.jpg', '0_000088.jpg','0_000088.jpg','0_000088.jpg','0_000095.jpg','0_000167.jpg','0_000229.jpg','0_000229.jpg','0_000238.jpg','0_000238.jpg','1_000008.jpg','1_000130.jpg'],\n",
    "        'CrackType': ['Sealed Crack','Delamination','Sealed Crack','Sealed Crack','Patches','Sealed Crack','Sealed Crack','Transverse Crack','Transverse Crack','Transverse Crack','Transverse Crack','Alligator Crack','Sealed Crack'], \n",
    "        'BoxMidpointX': [(-82.33140619),(-82.33139716),-82.33258988,-82.33255729,-82.33259842,-82.3329043,-82.33433745,-82.3353484,-82.33537087,-82.33497396,-82.33501698,-82.33559548,-82.33944204],\n",
    "        'BoxMidpointY':[35.62926977,35.62922702,35.62968587,35.6296836,35.62966675,35.62977876,35.63204237,35.63386025,35.63387616,35.63385549,35.63385824,35.63376986,35.63692573],\n",
    "        'camX1':[-82.33150312,-82.33267624,-82.33267644,-82.33267628,-82.33267624,-82.33295147,-82.33439501,-82.3352921,-82.33529205,-82.33489402,-82.33489402,-82.33567973,-82.33943922],\n",
    "        'camY1':[35.62930165,35.62971306,35.62971305,35.629713,35.62971306,35.62982244,35.63212578,35.63387443,35.63387442,35.63384581,35.63384581,35.63378662,35.63697426],\n",
    "        'camX2':[(-82.33140412),(-82.3313894),-82.33258347,-82.33255106,-82.33259392,-82.33289877,-82.33433171,-82.33535979,-82.33537773,-82.33498273,-82.3350259,-82.33559379,-82.3394466],\n",
    "        'camY2': [35.62927075,35.62922131,35.62968617,35.62968447,35.62966175,35.62977133,35.63202951,35.63385624,35.63387199,35.63385406,35.6338557,35.63380273,35.63691645],\n",
    "        'Error':[]\n",
    "       }\n",
    "\n",
    "\n",
    "\n"
   ]
  },
  {
   "cell_type": "code",
   "execution_count": 3,
   "id": "8981aa80",
   "metadata": {},
   "outputs": [
    {
     "name": "stdout",
     "output_type": "stream",
     "text": [
      "Image         CrackType           BoxMidpointX    BoxMidpointY     camX1    camY1     camX2    camY2  Error\n",
      "------------  ----------------  --------------  --------------  --------  -------  --------  -------  -------\n",
      "0_000059.jpg  Sealed Crack            -82.3314         35.6293  -82.3315  35.6293  -82.3314  35.6293\n",
      "0_000059.jpg  Delamination            -82.3314         35.6292  -82.3327  35.6297  -82.3314  35.6292\n",
      "0_000088.jpg  Sealed Crack            -82.3326         35.6297  -82.3327  35.6297  -82.3326  35.6297\n",
      "0_000088.jpg  Sealed Crack            -82.3326         35.6297  -82.3327  35.6297  -82.3326  35.6297\n",
      "0_000088.jpg  Patches                 -82.3326         35.6297  -82.3327  35.6297  -82.3326  35.6297\n",
      "0_000095.jpg  Sealed Crack            -82.3329         35.6298  -82.333   35.6298  -82.3329  35.6298\n",
      "0_000167.jpg  Sealed Crack            -82.3343         35.632   -82.3344  35.6321  -82.3343  35.632\n",
      "0_000229.jpg  Transverse Crack        -82.3353         35.6339  -82.3353  35.6339  -82.3354  35.6339\n",
      "0_000229.jpg  Transverse Crack        -82.3354         35.6339  -82.3353  35.6339  -82.3354  35.6339\n",
      "0_000238.jpg  Transverse Crack        -82.335          35.6339  -82.3349  35.6338  -82.335   35.6339\n",
      "0_000238.jpg  Transverse Crack        -82.335          35.6339  -82.3349  35.6338  -82.335   35.6339\n",
      "1_000008.jpg  Alligator Crack         -82.3356         35.6338  -82.3357  35.6338  -82.3356  35.6338\n",
      "1_000130.jpg  Sealed Crack            -82.3394         35.6369  -82.3394  35.637   -82.3394  35.6369\n"
     ]
    }
   ],
   "source": [
    "print(tabulate(info, headers='keys'))"
   ]
  },
  {
   "cell_type": "code",
   "execution_count": 4,
   "id": "eff90cd6",
   "metadata": {},
   "outputs": [],
   "source": [
    "\n",
    "\n",
    "i = 0\n",
    "while i < len(info['Image']):\n",
    "\n",
    "      coords_1 = ( (info['camY2'][i]), (info['camX2'][i]))\n",
    "      coords_2 = ((info['BoxMidpointY'][i]), (info['BoxMidpointX'][i]))\n",
    "      info['Error'].append(geopy.distance.geodesic(coords_1, coords_2).m)\n",
    "\n",
    "      \n",
    "     \n",
    "  \n",
    "      i = i + 1"
   ]
  },
  {
   "cell_type": "code",
   "execution_count": 5,
   "id": "51e74e41",
   "metadata": {},
   "outputs": [
    {
     "name": "stdout",
     "output_type": "stream",
     "text": [
      "Image         CrackType           BoxMidpointX    BoxMidpointY     camX1    camY1     camX2    camY2     Error\n",
      "------------  ----------------  --------------  --------------  --------  -------  --------  -------  --------\n",
      "0_000059.jpg  Sealed Crack            -82.3314         35.6293  -82.3315  35.6293  -82.3314  35.6293  0.216754\n",
      "0_000059.jpg  Delamination            -82.3314         35.6292  -82.3327  35.6297  -82.3314  35.6292  0.946298\n",
      "0_000088.jpg  Sealed Crack            -82.3326         35.6297  -82.3327  35.6297  -82.3326  35.6297  0.581592\n",
      "0_000088.jpg  Sealed Crack            -82.3326         35.6297  -82.3327  35.6297  -82.3326  35.6297  0.57253\n",
      "0_000088.jpg  Patches                 -82.3326         35.6297  -82.3327  35.6297  -82.3326  35.6297  0.688417\n",
      "0_000095.jpg  Sealed Crack            -82.3329         35.6298  -82.333   35.6298  -82.3329  35.6298  0.964634\n",
      "0_000167.jpg  Sealed Crack            -82.3343         35.632   -82.3344  35.6321  -82.3343  35.632   1.51862\n",
      "0_000229.jpg  Transverse Crack        -82.3353         35.6339  -82.3353  35.6339  -82.3354  35.6339  1.12354\n",
      "0_000229.jpg  Transverse Crack        -82.3354         35.6339  -82.3353  35.6339  -82.3354  35.6339  0.774702\n",
      "0_000238.jpg  Transverse Crack        -82.335          35.6339  -82.3349  35.6338  -82.335   35.6339  0.810064\n",
      "0_000238.jpg  Transverse Crack        -82.335          35.6339  -82.3349  35.6338  -82.335   35.6339  0.8557\n",
      "1_000008.jpg  Alligator Crack         -82.3356         35.6338  -82.3357  35.6338  -82.3356  35.6338  3.65021\n",
      "1_000130.jpg  Sealed Crack            -82.3394         35.6369  -82.3394  35.637   -82.3394  35.6369  1.10939\n"
     ]
    }
   ],
   "source": [
    "print(tabulate(info, headers='keys'))"
   ]
  },
  {
   "cell_type": "code",
   "execution_count": null,
   "id": "d3accb58",
   "metadata": {},
   "outputs": [],
   "source": []
  },
  {
   "cell_type": "code",
   "execution_count": null,
   "id": "dcf946a7",
   "metadata": {},
   "outputs": [],
   "source": []
  },
  {
   "cell_type": "code",
   "execution_count": null,
   "id": "6b7211e2",
   "metadata": {},
   "outputs": [],
   "source": [
    "\n"
   ]
  },
  {
   "cell_type": "code",
   "execution_count": null,
   "id": "89ebf94d",
   "metadata": {},
   "outputs": [],
   "source": []
  }
 ],
 "metadata": {
  "kernelspec": {
   "display_name": "Python 3 (ipykernel)",
   "language": "python",
   "name": "python3"
  },
  "language_info": {
   "codemirror_mode": {
    "name": "ipython",
    "version": 3
   },
   "file_extension": ".py",
   "mimetype": "text/x-python",
   "name": "python",
   "nbconvert_exporter": "python",
   "pygments_lexer": "ipython3",
   "version": "3.9.12"
  }
 },
 "nbformat": 4,
 "nbformat_minor": 5
}
